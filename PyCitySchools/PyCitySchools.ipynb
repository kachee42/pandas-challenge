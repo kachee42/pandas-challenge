{
 "cells": [
  {
   "cell_type": "markdown",
   "id": "f23b67cd",
   "metadata": {},
   "source": [
    "# PyCity Schools Analysis\n",
    "### "
   ]
  },
  {
   "cell_type": "code",
   "execution_count": null,
   "id": "8879fb5b",
   "metadata": {},
   "outputs": [],
   "source": [
    "# import dependencies\n",
    "import pandas as pd"
   ]
  },
  {
   "cell_type": "code",
   "execution_count": 2,
   "id": "e76ff0b1",
   "metadata": {},
   "outputs": [],
   "source": [
    "# Create file paths for csv files\n",
    "school_path = \"Resources/schools_complete.csv\"\n",
    "Student_path = \"Resources/students_complete.csv\"\n"
   ]
  },
  {
   "cell_type": "code",
   "execution_count": 1,
   "id": "c13644ee",
   "metadata": {},
   "outputs": [],
   "source": [
    "# Read data with pandas and create dataframes\n",
    "\n"
   ]
  },
  {
   "cell_type": "code",
   "execution_count": 1,
   "id": "3ea8fc1c",
   "metadata": {},
   "outputs": [],
   "source": [
    "# Merge dataframes"
   ]
  },
  {
   "cell_type": "markdown",
   "id": "8b95f9a3",
   "metadata": {},
   "source": [
    "# District Summary"
   ]
  },
  {
   "cell_type": "code",
   "execution_count": 2,
   "id": "899d6d90",
   "metadata": {},
   "outputs": [],
   "source": [
    "# Calculate total students"
   ]
  },
  {
   "cell_type": "markdown",
   "id": "53f3a7c9",
   "metadata": {},
   "source": [
    "# Calculate total budget"
   ]
  },
  {
   "cell_type": "code",
   "execution_count": 4,
   "id": "1b4736cb",
   "metadata": {},
   "outputs": [],
   "source": [
    "# Calculate average math score"
   ]
  },
  {
   "cell_type": "code",
   "execution_count": 5,
   "id": "9d19fc46",
   "metadata": {},
   "outputs": [],
   "source": [
    "# Calculate average reading score"
   ]
  },
  {
   "cell_type": "code",
   "execution_count": 6,
   "id": "cfa79e78",
   "metadata": {},
   "outputs": [],
   "source": [
    "# Calculate the percent of students that passed math\n"
   ]
  },
  {
   "cell_type": "code",
   "execution_count": 7,
   "id": "0928965b",
   "metadata": {},
   "outputs": [],
   "source": [
    "# Calculate percent of students passing reading"
   ]
  },
  {
   "cell_type": "code",
   "execution_count": 8,
   "id": "79bf7a98",
   "metadata": {},
   "outputs": [],
   "source": [
    "# Calculate percent of students passing math and reading"
   ]
  },
  {
   "cell_type": "code",
   "execution_count": 9,
   "id": "d593174a",
   "metadata": {},
   "outputs": [],
   "source": [
    "# Create snapshot dataframe"
   ]
  },
  {
   "cell_type": "markdown",
   "id": "735a412e",
   "metadata": {},
   "source": [
    "# School Summary"
   ]
  },
  {
   "cell_type": "code",
   "execution_count": 10,
   "id": "1205e5ef",
   "metadata": {},
   "outputs": [],
   "source": [
    "# Select school types"
   ]
  },
  {
   "cell_type": "code",
   "execution_count": 11,
   "id": "a02d1498",
   "metadata": {},
   "outputs": [],
   "source": [
    "# Calculate total student count\n"
   ]
  },
  {
   "cell_type": "code",
   "execution_count": 12,
   "id": "be12f199",
   "metadata": {},
   "outputs": [],
   "source": [
    "# Calculate total school budget and per capita spending"
   ]
  },
  {
   "cell_type": "code",
   "execution_count": 13,
   "id": "b38aa9b3",
   "metadata": {},
   "outputs": [],
   "source": [
    "# Calculate average test scores"
   ]
  },
  {
   "cell_type": "code",
   "execution_count": 14,
   "id": "9743296b",
   "metadata": {},
   "outputs": [],
   "source": [
    "# Calculate the number of schools with math scores of 70+"
   ]
  },
  {
   "cell_type": "code",
   "execution_count": 15,
   "id": "4083869a",
   "metadata": {},
   "outputs": [],
   "source": [
    "# Calculate the number of schools with reading sores of 70+"
   ]
  },
  {
   "cell_type": "code",
   "execution_count": 16,
   "id": "2e5d0722",
   "metadata": {},
   "outputs": [],
   "source": [
    "# Calculate schhols that passed both math and reading with scores of 70+"
   ]
  },
  {
   "cell_type": "code",
   "execution_count": 17,
   "id": "f78eb2f2",
   "metadata": {},
   "outputs": [],
   "source": [
    "# Calculate passing rates"
   ]
  },
  {
   "cell_type": "code",
   "execution_count": 18,
   "id": "f26b3cc3",
   "metadata": {},
   "outputs": [],
   "source": [
    "# Create per school summary dataframe"
   ]
  },
  {
   "cell_type": "markdown",
   "id": "26a23936",
   "metadata": {},
   "source": [
    "# Highest-Performing Schools (by % Overall Passing)"
   ]
  },
  {
   "cell_type": "code",
   "execution_count": 19,
   "id": "7a7fed0b",
   "metadata": {},
   "outputs": [],
   "source": [
    "# Sort schools by \"% Overall Passing\" in descending order and display top 5 rows"
   ]
  },
  {
   "cell_type": "markdown",
   "id": "4606c31d",
   "metadata": {},
   "source": [
    "# Bottom-Performing Schools (by % Overall Passing)"
   ]
  },
  {
   "cell_type": "code",
   "execution_count": 20,
   "id": "b7e4d241",
   "metadata": {},
   "outputs": [],
   "source": [
    "# Sort the schools by \"% Overall Passing\" in ascending order and display top 5 rows"
   ]
  },
  {
   "cell_type": "markdown",
   "id": "898ee7de",
   "metadata": {},
   "source": [
    "# Math Scores by Grade"
   ]
  },
  {
   "cell_type": "code",
   "execution_count": 25,
   "id": "cad9013a",
   "metadata": {},
   "outputs": [],
   "source": [
    "# Separate data by grade\n",
    "# Groupby \"school_name\" and calculate mean of each\n",
    "# Select only \"math_score\"\n",
    "# Combine the above into a single dataframe\n",
    "# Display dataframe"
   ]
  },
  {
   "cell_type": "markdown",
   "id": "aabcdb07",
   "metadata": {},
   "source": [
    "# Reading Scores by Grade"
   ]
  },
  {
   "cell_type": "code",
   "execution_count": 28,
   "id": "12df1a7e",
   "metadata": {},
   "outputs": [],
   "source": [
    "# Groupby \"school_name\" and calculate mean of each\n",
    "# Select only \"reading_score\"\n",
    "# Combine above into a single dataframe\n",
    "# Display dataframe"
   ]
  },
  {
   "cell_type": "markdown",
   "id": "d775f333",
   "metadata": {},
   "source": [
    "# Scores by School Spending"
   ]
  },
  {
   "cell_type": "code",
   "execution_count": 29,
   "id": "6d72da40",
   "metadata": {},
   "outputs": [],
   "source": [
    "# Establish bins"
   ]
  },
  {
   "cell_type": "code",
   "execution_count": 30,
   "id": "7f0a3070",
   "metadata": {},
   "outputs": [],
   "source": [
    "# Create copy of school summary which has \"Per Student Budget\""
   ]
  },
  {
   "cell_type": "code",
   "execution_count": 31,
   "id": "01f9227d",
   "metadata": {},
   "outputs": [],
   "source": [
    "# cut the data and put into bins in new column"
   ]
  },
  {
   "cell_type": "code",
   "execution_count": 32,
   "id": "7d57ab5d",
   "metadata": {},
   "outputs": [],
   "source": [
    "# Calcualte averages for desired columns"
   ]
  },
  {
   "cell_type": "code",
   "execution_count": 33,
   "id": "48da49fa",
   "metadata": {},
   "outputs": [],
   "source": [
    "# Assemble into dataframe\n",
    "# Display results"
   ]
  },
  {
   "cell_type": "markdown",
   "id": "06ea70a4",
   "metadata": {},
   "source": [
    "# Scores by School Size"
   ]
  },
  {
   "cell_type": "code",
   "execution_count": 34,
   "id": "6361425c",
   "metadata": {},
   "outputs": [],
   "source": [
    "# Establish bins"
   ]
  },
  {
   "cell_type": "code",
   "execution_count": 35,
   "id": "6a5685c4",
   "metadata": {},
   "outputs": [],
   "source": [
    "# Cut data and put into bins in new column"
   ]
  },
  {
   "cell_type": "code",
   "execution_count": 36,
   "id": "00f0c2ac",
   "metadata": {},
   "outputs": [],
   "source": [
    "# Calculate averages for desired columns"
   ]
  },
  {
   "cell_type": "code",
   "execution_count": 38,
   "id": "826257d7",
   "metadata": {},
   "outputs": [],
   "source": [
    "# Assemble into dataframe\n",
    "# Display results"
   ]
  },
  {
   "cell_type": "markdown",
   "id": "bb573c63",
   "metadata": {},
   "source": [
    "# Scores by School Type"
   ]
  },
  {
   "cell_type": "code",
   "execution_count": 41,
   "id": "50249ce1",
   "metadata": {},
   "outputs": [],
   "source": [
    "# Group the per_school_summary DataFrame by \"School Type\" and average the results\n",
    "# select new column data"
   ]
  },
  {
   "cell_type": "code",
   "execution_count": 42,
   "id": "62157a04",
   "metadata": {},
   "outputs": [],
   "source": [
    "# Assemble ne data by type into dataframe\n",
    "# Display results"
   ]
  },
  {
   "cell_type": "code",
   "execution_count": null,
   "id": "70cc7897",
   "metadata": {},
   "outputs": [],
   "source": []
  }
 ],
 "metadata": {
  "kernelspec": {
   "display_name": "PythonData",
   "language": "python",
   "name": "pythondata"
  },
  "language_info": {
   "codemirror_mode": {
    "name": "ipython",
    "version": 3
   },
   "file_extension": ".py",
   "mimetype": "text/x-python",
   "name": "python",
   "nbconvert_exporter": "python",
   "pygments_lexer": "ipython3",
   "version": "3.7.7"
  }
 },
 "nbformat": 4,
 "nbformat_minor": 5
}
