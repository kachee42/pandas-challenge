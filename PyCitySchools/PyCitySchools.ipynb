{
 "cells": [
  {
   "cell_type": "markdown",
   "id": "701f1f79",
   "metadata": {},
   "source": [
    "# PyCity Schools Analysis\n",
    "### "
   ]
  },
  {
   "cell_type": "code",
   "execution_count": 44,
   "id": "f535376a",
   "metadata": {},
   "outputs": [],
   "source": [
    "# import dependencies\n",
    "import pandas as pd"
   ]
  },
  {
   "cell_type": "code",
   "execution_count": 45,
   "id": "4c39bdc2",
   "metadata": {},
   "outputs": [],
   "source": [
    "# Create file paths for csv files\n",
    "school_path = \"Resources/schools_complete.csv\"\n",
    "student_path = \"Resources/students_complete.csv\"\n"
   ]
  },
  {
   "cell_type": "code",
   "execution_count": 46,
   "id": "93830838",
   "metadata": {},
   "outputs": [],
   "source": [
    "# Read data with pandas and create dataframes\n",
    "school_data = pd.read_csv(school_path)\n",
    "student_data = pd.read_csv(student_path)"
   ]
  },
  {
   "cell_type": "code",
   "execution_count": 47,
   "id": "32835f2d",
   "metadata": {},
   "outputs": [
    {
     "data": {
      "text/html": [
       "<div>\n",
       "<style scoped>\n",
       "    .dataframe tbody tr th:only-of-type {\n",
       "        vertical-align: middle;\n",
       "    }\n",
       "\n",
       "    .dataframe tbody tr th {\n",
       "        vertical-align: top;\n",
       "    }\n",
       "\n",
       "    .dataframe thead th {\n",
       "        text-align: right;\n",
       "    }\n",
       "</style>\n",
       "<table border=\"1\" class=\"dataframe\">\n",
       "  <thead>\n",
       "    <tr style=\"text-align: right;\">\n",
       "      <th></th>\n",
       "      <th>Student ID</th>\n",
       "      <th>student_name</th>\n",
       "      <th>gender</th>\n",
       "      <th>grade</th>\n",
       "      <th>school_name</th>\n",
       "      <th>reading_score</th>\n",
       "      <th>math_score</th>\n",
       "      <th>School ID</th>\n",
       "      <th>type</th>\n",
       "      <th>size</th>\n",
       "      <th>budget</th>\n",
       "    </tr>\n",
       "  </thead>\n",
       "  <tbody>\n",
       "    <tr>\n",
       "      <th>0</th>\n",
       "      <td>0</td>\n",
       "      <td>Paul Bradley</td>\n",
       "      <td>M</td>\n",
       "      <td>9th</td>\n",
       "      <td>Huang High School</td>\n",
       "      <td>66</td>\n",
       "      <td>79</td>\n",
       "      <td>0</td>\n",
       "      <td>District</td>\n",
       "      <td>2917</td>\n",
       "      <td>1910635</td>\n",
       "    </tr>\n",
       "    <tr>\n",
       "      <th>1</th>\n",
       "      <td>1</td>\n",
       "      <td>Victor Smith</td>\n",
       "      <td>M</td>\n",
       "      <td>12th</td>\n",
       "      <td>Huang High School</td>\n",
       "      <td>94</td>\n",
       "      <td>61</td>\n",
       "      <td>0</td>\n",
       "      <td>District</td>\n",
       "      <td>2917</td>\n",
       "      <td>1910635</td>\n",
       "    </tr>\n",
       "    <tr>\n",
       "      <th>2</th>\n",
       "      <td>2</td>\n",
       "      <td>Kevin Rodriguez</td>\n",
       "      <td>M</td>\n",
       "      <td>12th</td>\n",
       "      <td>Huang High School</td>\n",
       "      <td>90</td>\n",
       "      <td>60</td>\n",
       "      <td>0</td>\n",
       "      <td>District</td>\n",
       "      <td>2917</td>\n",
       "      <td>1910635</td>\n",
       "    </tr>\n",
       "    <tr>\n",
       "      <th>3</th>\n",
       "      <td>3</td>\n",
       "      <td>Dr. Richard Scott</td>\n",
       "      <td>M</td>\n",
       "      <td>12th</td>\n",
       "      <td>Huang High School</td>\n",
       "      <td>67</td>\n",
       "      <td>58</td>\n",
       "      <td>0</td>\n",
       "      <td>District</td>\n",
       "      <td>2917</td>\n",
       "      <td>1910635</td>\n",
       "    </tr>\n",
       "    <tr>\n",
       "      <th>4</th>\n",
       "      <td>4</td>\n",
       "      <td>Bonnie Ray</td>\n",
       "      <td>F</td>\n",
       "      <td>9th</td>\n",
       "      <td>Huang High School</td>\n",
       "      <td>97</td>\n",
       "      <td>84</td>\n",
       "      <td>0</td>\n",
       "      <td>District</td>\n",
       "      <td>2917</td>\n",
       "      <td>1910635</td>\n",
       "    </tr>\n",
       "  </tbody>\n",
       "</table>\n",
       "</div>"
      ],
      "text/plain": [
       "   Student ID       student_name gender grade        school_name  \\\n",
       "0           0       Paul Bradley      M   9th  Huang High School   \n",
       "1           1       Victor Smith      M  12th  Huang High School   \n",
       "2           2    Kevin Rodriguez      M  12th  Huang High School   \n",
       "3           3  Dr. Richard Scott      M  12th  Huang High School   \n",
       "4           4         Bonnie Ray      F   9th  Huang High School   \n",
       "\n",
       "   reading_score  math_score  School ID      type  size   budget  \n",
       "0             66          79          0  District  2917  1910635  \n",
       "1             94          61          0  District  2917  1910635  \n",
       "2             90          60          0  District  2917  1910635  \n",
       "3             67          58          0  District  2917  1910635  \n",
       "4             97          84          0  District  2917  1910635  "
      ]
     },
     "execution_count": 47,
     "metadata": {},
     "output_type": "execute_result"
    }
   ],
   "source": [
    "# Merge dataframes\n",
    "school_data_complete = pd.merge(student_data, school_data, how=\"left\", on=[\"school_name\", \"school_name\"])\n",
    "school_data_complete.head()"
   ]
  },
  {
   "cell_type": "markdown",
   "id": "9265256d",
   "metadata": {},
   "source": [
    "# District Summary"
   ]
  },
  {
   "cell_type": "code",
   "execution_count": 2,
   "id": "78e8c05a",
   "metadata": {},
   "outputs": [],
   "source": [
    "# Calculate total students"
   ]
  },
  {
   "cell_type": "markdown",
   "id": "86ce0880",
   "metadata": {},
   "source": [
    "# Calculate total budget"
   ]
  },
  {
   "cell_type": "code",
   "execution_count": 4,
   "id": "ce3aa3cd",
   "metadata": {},
   "outputs": [],
   "source": [
    "# Calculate average math score"
   ]
  },
  {
   "cell_type": "code",
   "execution_count": 5,
   "id": "a06aab7c",
   "metadata": {},
   "outputs": [],
   "source": [
    "# Calculate average reading score"
   ]
  },
  {
   "cell_type": "code",
   "execution_count": 6,
   "id": "497a86d5",
   "metadata": {},
   "outputs": [],
   "source": [
    "# Calculate the percent of students that passed math\n"
   ]
  },
  {
   "cell_type": "code",
   "execution_count": 7,
   "id": "c798a599",
   "metadata": {},
   "outputs": [],
   "source": [
    "# Calculate percent of students passing reading"
   ]
  },
  {
   "cell_type": "code",
   "execution_count": 8,
   "id": "391e2a6b",
   "metadata": {},
   "outputs": [],
   "source": [
    "# Calculate percent of students passing math and reading"
   ]
  },
  {
   "cell_type": "code",
   "execution_count": 9,
   "id": "005579e8",
   "metadata": {},
   "outputs": [],
   "source": [
    "# Create snapshot dataframe"
   ]
  },
  {
   "cell_type": "markdown",
   "id": "82a86359",
   "metadata": {},
   "source": [
    "# School Summary"
   ]
  },
  {
   "cell_type": "code",
   "execution_count": 10,
   "id": "5034a6fa",
   "metadata": {},
   "outputs": [],
   "source": [
    "# Select school types"
   ]
  },
  {
   "cell_type": "code",
   "execution_count": 11,
   "id": "0b567f07",
   "metadata": {},
   "outputs": [],
   "source": [
    "# Calculate total student count\n"
   ]
  },
  {
   "cell_type": "code",
   "execution_count": 12,
   "id": "2aa261d6",
   "metadata": {},
   "outputs": [],
   "source": [
    "# Calculate total school budget and per capita spending"
   ]
  },
  {
   "cell_type": "code",
   "execution_count": 13,
   "id": "8c2e6e49",
   "metadata": {},
   "outputs": [],
   "source": [
    "# Calculate average test scores"
   ]
  },
  {
   "cell_type": "code",
   "execution_count": 14,
   "id": "e4caaf5a",
   "metadata": {},
   "outputs": [],
   "source": [
    "# Calculate the number of schools with math scores of 70+"
   ]
  },
  {
   "cell_type": "code",
   "execution_count": 15,
   "id": "8142ff1a",
   "metadata": {},
   "outputs": [],
   "source": [
    "# Calculate the number of schools with reading sores of 70+"
   ]
  },
  {
   "cell_type": "code",
   "execution_count": 16,
   "id": "e58df806",
   "metadata": {},
   "outputs": [],
   "source": [
    "# Calculate schhols that passed both math and reading with scores of 70+"
   ]
  },
  {
   "cell_type": "code",
   "execution_count": 17,
   "id": "84638e03",
   "metadata": {},
   "outputs": [],
   "source": [
    "# Calculate passing rates"
   ]
  },
  {
   "cell_type": "code",
   "execution_count": 18,
   "id": "4dcb5912",
   "metadata": {},
   "outputs": [],
   "source": [
    "# Create per school summary dataframe"
   ]
  },
  {
   "cell_type": "markdown",
   "id": "4be123c6",
   "metadata": {},
   "source": [
    "# Highest-Performing Schools (by % Overall Passing)"
   ]
  },
  {
   "cell_type": "code",
   "execution_count": 19,
   "id": "a41c47d7",
   "metadata": {},
   "outputs": [],
   "source": [
    "# Sort schools by \"% Overall Passing\" in descending order and display top 5 rows"
   ]
  },
  {
   "cell_type": "markdown",
   "id": "335a5cd9",
   "metadata": {},
   "source": [
    "# Bottom-Performing Schools (by % Overall Passing)"
   ]
  },
  {
   "cell_type": "code",
   "execution_count": 20,
   "id": "9cc2cf11",
   "metadata": {},
   "outputs": [],
   "source": [
    "# Sort the schools by \"% Overall Passing\" in ascending order and display top 5 rows"
   ]
  },
  {
   "cell_type": "markdown",
   "id": "e11157de",
   "metadata": {},
   "source": [
    "# Math Scores by Grade"
   ]
  },
  {
   "cell_type": "code",
   "execution_count": 25,
   "id": "d43ae455",
   "metadata": {},
   "outputs": [],
   "source": [
    "# Separate data by grade\n",
    "# Groupby \"school_name\" and calculate mean of each\n",
    "# Select only \"math_score\"\n",
    "# Combine the above into a single dataframe\n",
    "# Display dataframe"
   ]
  },
  {
   "cell_type": "markdown",
   "id": "059ef9a6",
   "metadata": {},
   "source": [
    "# Reading Scores by Grade"
   ]
  },
  {
   "cell_type": "code",
   "execution_count": 28,
   "id": "9d231ea7",
   "metadata": {},
   "outputs": [],
   "source": [
    "# Groupby \"school_name\" and calculate mean of each\n",
    "# Select only \"reading_score\"\n",
    "# Combine above into a single dataframe\n",
    "# Display dataframe"
   ]
  },
  {
   "cell_type": "markdown",
   "id": "f1b65003",
   "metadata": {},
   "source": [
    "# Scores by School Spending"
   ]
  },
  {
   "cell_type": "code",
   "execution_count": 29,
   "id": "d92772ee",
   "metadata": {},
   "outputs": [],
   "source": [
    "# Establish bins"
   ]
  },
  {
   "cell_type": "code",
   "execution_count": 30,
   "id": "2d9e3636",
   "metadata": {},
   "outputs": [],
   "source": [
    "# Create copy of school summary which has \"Per Student Budget\""
   ]
  },
  {
   "cell_type": "code",
   "execution_count": 31,
   "id": "f08abb58",
   "metadata": {},
   "outputs": [],
   "source": [
    "# cut the data and put into bins in new column"
   ]
  },
  {
   "cell_type": "code",
   "execution_count": 32,
   "id": "cae34932",
   "metadata": {},
   "outputs": [],
   "source": [
    "# Calcualte averages for desired columns"
   ]
  },
  {
   "cell_type": "code",
   "execution_count": 33,
   "id": "d9331a95",
   "metadata": {},
   "outputs": [],
   "source": [
    "# Assemble into dataframe\n",
    "# Display results"
   ]
  },
  {
   "cell_type": "markdown",
   "id": "ee781af2",
   "metadata": {},
   "source": [
    "# Scores by School Size"
   ]
  },
  {
   "cell_type": "code",
   "execution_count": 34,
   "id": "0a36d37a",
   "metadata": {},
   "outputs": [],
   "source": [
    "# Establish bins"
   ]
  },
  {
   "cell_type": "code",
   "execution_count": 35,
   "id": "9a769746",
   "metadata": {},
   "outputs": [],
   "source": [
    "# Cut data and put into bins in new column"
   ]
  },
  {
   "cell_type": "code",
   "execution_count": 36,
   "id": "ea9299b5",
   "metadata": {},
   "outputs": [],
   "source": [
    "# Calculate averages for desired columns"
   ]
  },
  {
   "cell_type": "code",
   "execution_count": 38,
   "id": "b010fda9",
   "metadata": {},
   "outputs": [],
   "source": [
    "# Assemble into dataframe\n",
    "# Display results"
   ]
  },
  {
   "cell_type": "markdown",
   "id": "0acb3e0c",
   "metadata": {},
   "source": [
    "# Scores by School Type"
   ]
  },
  {
   "cell_type": "code",
   "execution_count": 41,
   "id": "30fc4b0a",
   "metadata": {},
   "outputs": [],
   "source": [
    "# Group the per_school_summary DataFrame by \"School Type\" and average the results\n",
    "# select new column data"
   ]
  },
  {
   "cell_type": "code",
   "execution_count": 42,
   "id": "3e79ee02",
   "metadata": {},
   "outputs": [],
   "source": [
    "# Assemble new data by type into dataframe\n",
    "# Display results"
   ]
  },
  {
   "cell_type": "code",
   "execution_count": null,
   "id": "02cdcf12",
   "metadata": {},
   "outputs": [],
   "source": []
  }
 ],
 "metadata": {
  "kernelspec": {
   "display_name": "PythonData",
   "language": "python",
   "name": "pythondata"
  },
  "language_info": {
   "codemirror_mode": {
    "name": "ipython",
    "version": 3
   },
   "file_extension": ".py",
   "mimetype": "text/x-python",
   "name": "python",
   "nbconvert_exporter": "python",
   "pygments_lexer": "ipython3",
   "version": "3.7.7"
  }
 },
 "nbformat": 4,
 "nbformat_minor": 5
}
